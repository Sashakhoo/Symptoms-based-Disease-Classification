{
 "cells": [
  {
   "cell_type": "code",
   "execution_count": 1,
   "metadata": {},
   "outputs": [],
   "source": [
    "# Import Dependencies\n",
    "import csv\n",
    "import pandas as pd\n",
    "import numpy as np\n",
    "from collections import  \n",
    "import seaborn as sns\n",
    "import matplotlib.pyplot as plt\n",
    "%matplotlib inline\n",
    "import pickle"
   ]
  },
  {
   "cell_type": "code",
   "execution_count": 2,
   "metadata": {},
   "outputs": [],
   "source": [
    "# Read Raw Dataset\n",
    "df = pd.read_excel('./dataset/raw_data.xlsx')"
   ]
  },
  {
   "cell_type": "code",
   "execution_count": 3,
   "metadata": {},
   "outputs": [
    {
     "data": {
      "text/html": [
       "<div>\n",
       "<style scoped>\n",
       "    .dataframe tbody tr th:only-of-type {\n",
       "        vertical-align: middle;\n",
       "    }\n",
       "\n",
       "    .dataframe tbody tr th {\n",
       "        vertical-align: top;\n",
       "    }\n",
       "\n",
       "    .dataframe thead th {\n",
       "        text-align: right;\n",
       "    }\n",
       "</style>\n",
       "<table border=\"1\" class=\"dataframe\">\n",
       "  <thead>\n",
       "    <tr style=\"text-align: right;\">\n",
       "      <th></th>\n",
       "      <th>Disease</th>\n",
       "      <th>Count of Disease Occurrence</th>\n",
       "      <th>Symptom</th>\n",
       "    </tr>\n",
       "  </thead>\n",
       "  <tbody>\n",
       "    <tr>\n",
       "      <th>0</th>\n",
       "      <td>UMLS:C0011847_diabetes</td>\n",
       "      <td>1421.0</td>\n",
       "      <td>UMLS:C0032617_polyuria</td>\n",
       "    </tr>\n",
       "    <tr>\n",
       "      <th>1</th>\n",
       "      <td>NaN</td>\n",
       "      <td>NaN</td>\n",
       "      <td>UMLS:C0085602_polydypsia</td>\n",
       "    </tr>\n",
       "    <tr>\n",
       "      <th>2</th>\n",
       "      <td>NaN</td>\n",
       "      <td>NaN</td>\n",
       "      <td>UMLS:C0008031_pain chest</td>\n",
       "    </tr>\n",
       "    <tr>\n",
       "      <th>3</th>\n",
       "      <td>NaN</td>\n",
       "      <td>NaN</td>\n",
       "      <td>UMLS:C0027497_nausea</td>\n",
       "    </tr>\n",
       "    <tr>\n",
       "      <th>4</th>\n",
       "      <td>NaN</td>\n",
       "      <td>NaN</td>\n",
       "      <td>UMLS:C0241526_unresponsiveness</td>\n",
       "    </tr>\n",
       "  </tbody>\n",
       "</table>\n",
       "</div>"
      ],
      "text/plain": [
       "                  Disease  Count of Disease Occurrence  \\\n",
       "0  UMLS:C0011847_diabetes                       1421.0   \n",
       "1                     NaN                          NaN   \n",
       "2                     NaN                          NaN   \n",
       "3                     NaN                          NaN   \n",
       "4                     NaN                          NaN   \n",
       "\n",
       "                          Symptom  \n",
       "0          UMLS:C0032617_polyuria  \n",
       "1        UMLS:C0085602_polydypsia  \n",
       "2        UMLS:C0008031_pain chest  \n",
       "3            UMLS:C0027497_nausea  \n",
       "4  UMLS:C0241526_unresponsiveness  "
      ]
     },
     "execution_count": 3,
     "metadata": {},
     "output_type": "execute_result"
    }
   ],
   "source": [
    "df.head()"
   ]
  },
  {
   "cell_type": "code",
   "execution_count": 4,
   "metadata": {},
   "outputs": [],
   "source": [
    "# Fill all NaN with the values above\n",
    "data = df.fillna(method='ffill')"
   ]
  },
  {
   "cell_type": "code",
   "execution_count": 5,
   "metadata": {},
   "outputs": [
    {
     "data": {
      "text/html": [
       "<div>\n",
       "<style scoped>\n",
       "    .dataframe tbody tr th:only-of-type {\n",
       "        vertical-align: middle;\n",
       "    }\n",
       "\n",
       "    .dataframe tbody tr th {\n",
       "        vertical-align: top;\n",
       "    }\n",
       "\n",
       "    .dataframe thead th {\n",
       "        text-align: right;\n",
       "    }\n",
       "</style>\n",
       "<table border=\"1\" class=\"dataframe\">\n",
       "  <thead>\n",
       "    <tr style=\"text-align: right;\">\n",
       "      <th></th>\n",
       "      <th>Disease</th>\n",
       "      <th>Count of Disease Occurrence</th>\n",
       "      <th>Symptom</th>\n",
       "    </tr>\n",
       "  </thead>\n",
       "  <tbody>\n",
       "    <tr>\n",
       "      <th>0</th>\n",
       "      <td>UMLS:C0011847_diabetes</td>\n",
       "      <td>1421.0</td>\n",
       "      <td>UMLS:C0032617_polyuria</td>\n",
       "    </tr>\n",
       "    <tr>\n",
       "      <th>1</th>\n",
       "      <td>UMLS:C0011847_diabetes</td>\n",
       "      <td>1421.0</td>\n",
       "      <td>UMLS:C0085602_polydypsia</td>\n",
       "    </tr>\n",
       "    <tr>\n",
       "      <th>2</th>\n",
       "      <td>UMLS:C0011847_diabetes</td>\n",
       "      <td>1421.0</td>\n",
       "      <td>UMLS:C0008031_pain chest</td>\n",
       "    </tr>\n",
       "    <tr>\n",
       "      <th>3</th>\n",
       "      <td>UMLS:C0011847_diabetes</td>\n",
       "      <td>1421.0</td>\n",
       "      <td>UMLS:C0027497_nausea</td>\n",
       "    </tr>\n",
       "    <tr>\n",
       "      <th>4</th>\n",
       "      <td>UMLS:C0011847_diabetes</td>\n",
       "      <td>1421.0</td>\n",
       "      <td>UMLS:C0241526_unresponsiveness</td>\n",
       "    </tr>\n",
       "  </tbody>\n",
       "</table>\n",
       "</div>"
      ],
      "text/plain": [
       "                  Disease  Count of Disease Occurrence  \\\n",
       "0  UMLS:C0011847_diabetes                       1421.0   \n",
       "1  UMLS:C0011847_diabetes                       1421.0   \n",
       "2  UMLS:C0011847_diabetes                       1421.0   \n",
       "3  UMLS:C0011847_diabetes                       1421.0   \n",
       "4  UMLS:C0011847_diabetes                       1421.0   \n",
       "\n",
       "                          Symptom  \n",
       "0          UMLS:C0032617_polyuria  \n",
       "1        UMLS:C0085602_polydypsia  \n",
       "2        UMLS:C0008031_pain chest  \n",
       "3            UMLS:C0027497_nausea  \n",
       "4  UMLS:C0241526_unresponsiveness  "
      ]
     },
     "execution_count": 5,
     "metadata": {},
     "output_type": "execute_result"
    }
   ],
   "source": [
    "data.head()"
   ]
  },
  {
   "cell_type": "code",
   "execution_count": 6,
   "metadata": {},
   "outputs": [],
   "source": [
    "# Process Disease and Symptom Names\n",
    "def process_data(data):\n",
    "    data_list = []\n",
    "    data_name = data.replace('^','_').split('_')\n",
    "    n = 1\n",
    "    for names in data_name:\n",
    "        if (n % 2 == 0):\n",
    "            data_list.append(names)\n",
    "        n += 1\n",
    "    return data_list"
   ]
  },
  {
   "cell_type": "code",
   "execution_count": 7,
   "metadata": {},
   "outputs": [],
   "source": [
    "# Data Cleanup\n",
    "disease_list = []\n",
    "disease_symptom_dict = defaultdict(list)\n",
    "disease_symptom_count = {}\n",
    "count = 0\n",
    "\n",
    "for idx, row in data.iterrows():\n",
    "    \n",
    "    # Get the Disease Names\n",
    "    if (row['Disease'] !=\"\\xc2\\xa0\") and (row['Disease'] != \"\"):\n",
    "        disease = row['Disease']\n",
    "        disease_list = process_data(data=disease)\n",
    "        count = row['Count of Disease Occurrence']\n",
    "\n",
    "    # Get the Symptoms Corresponding to Diseases\n",
    "    if (row['Symptom'] !=\"\\xc2\\xa0\") and (row['Symptom'] != \"\"):\n",
    "        symptom = row['Symptom']\n",
    "        symptom_list = process_data(data=symptom)\n",
    "        for d in disease_list:\n",
    "            for s in symptom_list:\n",
    "                disease_symptom_dict[d].append(s)\n",
    "            disease_symptom_count[d] = count"
   ]
  },
  {
   "cell_type": "code",
   "execution_count": 8,
   "metadata": {
    "scrolled": true
   },
   "outputs": [
    {
     "data": {
      "text/plain": [
       "defaultdict(list,\n",
       "            {'diabetes': ['polyuria',\n",
       "              'polydypsia',\n",
       "              'pain chest',\n",
       "              'nausea',\n",
       "              'unresponsiveness',\n",
       "              'vertigo',\n",
       "              'vomiting',\n",
       "              'labored breathing'],\n",
       "             'accident\\xa0cerebrovascular': ['dysarthria',\n",
       "              'asthenia',\n",
       "              'speech slurred',\n",
       "              'facial paresis',\n",
       "              'hemiplegia',\n",
       "              'unresponsiveness',\n",
       "              'seizure',\n",
       "              'numbness'],\n",
       "             'chronic obstructive airway disease': ['shortness of breath',\n",
       "              'wheezing',\n",
       "              'cough',\n",
       "              'dyspnea',\n",
       "              'hypercapnia',\n",
       "              'chest tightness'],\n",
       "             'carcinoma': ['mass of body structure',\n",
       "              'pain',\n",
       "              'lesion',\n",
       "              'thicken',\n",
       "              'decreased body weight',\n",
       "              'hoarseness',\n",
       "              'general discomfort',\n",
       "              'metastatic lesion',\n",
       "              'paresthesia'],\n",
       "             'failure heart': ['orthopnea',\n",
       "              'fatigue',\n",
       "              'dyspnea',\n",
       "              'shortness of breath',\n",
       "              'jugular venous distention',\n",
       "              'hypotension',\n",
       "              'angina pectoris'],\n",
       "             \"Alzheimer's disease\": ['drool',\n",
       "              'agitation',\n",
       "              'frail',\n",
       "              'tremor resting',\n",
       "              'facial paresis',\n",
       "              'groggy',\n",
       "              'muscle twitch',\n",
       "              'tremor'],\n",
       "             'obesity morbid': ['out of breath',\n",
       "              'cough',\n",
       "              'unhappy',\n",
       "              'wheezing',\n",
       "              'feels hot/feverish'],\n",
       "             'chronic alcoholic intoxication': ['tremor',\n",
       "              'hallucinations auditory',\n",
       "              'irritable mood',\n",
       "              'feeling suicidal',\n",
       "              'sleeplessness',\n",
       "              'unconscious state',\n",
       "              'panic',\n",
       "              'breath sounds decreased']})"
      ]
     },
     "execution_count": 8,
     "metadata": {},
     "output_type": "execute_result"
    }
   ],
   "source": [
    "# See that the data is Processed Correctly\n",
    "disease_symptom_dict"
   ]
  },
  {
   "cell_type": "code",
   "execution_count": 9,
   "metadata": {
    "scrolled": true
   },
   "outputs": [
    {
     "data": {
      "text/plain": [
       "{'diabetes': 1421.0,\n",
       " 'accident\\xa0cerebrovascular': 885.0,\n",
       " 'chronic obstructive airway disease': 524.0,\n",
       " 'carcinoma': 269.0,\n",
       " 'failure heart': 138.0,\n",
       " \"Alzheimer's disease\": 101.0,\n",
       " 'obesity morbid': 76.0,\n",
       " 'chronic alcoholic intoxication': 70.0}"
      ]
     },
     "execution_count": 9,
     "metadata": {},
     "output_type": "execute_result"
    }
   ],
   "source": [
    "# Count of Disease Occurence w.r.t each Disease\n",
    "disease_symptom_count"
   ]
  },
  {
   "cell_type": "code",
   "execution_count": 10,
   "metadata": {},
   "outputs": [],
   "source": [
    "# Save cleaned data as CSV\n",
    "f = open('./dataset/cleaned_data.csv', 'w')\n",
    "\n",
    "with f:\n",
    "    writer = csv.writer(f)\n",
    "    for key, val in disease_symptom_dict.items():\n",
    "        for i in range(len(val)):\n",
    "            writer.writerow([key, val[i], disease_symptom_count[key]])"
   ]
  },
  {
   "cell_type": "code",
   "execution_count": 11,
   "metadata": {},
   "outputs": [
    {
     "data": {
      "text/html": [
       "<div>\n",
       "<style scoped>\n",
       "    .dataframe tbody tr th:only-of-type {\n",
       "        vertical-align: middle;\n",
       "    }\n",
       "\n",
       "    .dataframe tbody tr th {\n",
       "        vertical-align: top;\n",
       "    }\n",
       "\n",
       "    .dataframe thead th {\n",
       "        text-align: right;\n",
       "    }\n",
       "</style>\n",
       "<table border=\"1\" class=\"dataframe\">\n",
       "  <thead>\n",
       "    <tr style=\"text-align: right;\">\n",
       "      <th></th>\n",
       "      <th>disease</th>\n",
       "      <th>symptom</th>\n",
       "      <th>occurence_count</th>\n",
       "    </tr>\n",
       "  </thead>\n",
       "  <tbody>\n",
       "    <tr>\n",
       "      <th>0</th>\n",
       "      <td>diabetes</td>\n",
       "      <td>polydypsia</td>\n",
       "      <td>1421.0</td>\n",
       "    </tr>\n",
       "    <tr>\n",
       "      <th>1</th>\n",
       "      <td>diabetes</td>\n",
       "      <td>pain chest</td>\n",
       "      <td>1421.0</td>\n",
       "    </tr>\n",
       "    <tr>\n",
       "      <th>2</th>\n",
       "      <td>diabetes</td>\n",
       "      <td>nausea</td>\n",
       "      <td>1421.0</td>\n",
       "    </tr>\n",
       "    <tr>\n",
       "      <th>3</th>\n",
       "      <td>diabetes</td>\n",
       "      <td>unresponsiveness</td>\n",
       "      <td>1421.0</td>\n",
       "    </tr>\n",
       "    <tr>\n",
       "      <th>4</th>\n",
       "      <td>diabetes</td>\n",
       "      <td>vertigo</td>\n",
       "      <td>1421.0</td>\n",
       "    </tr>\n",
       "  </tbody>\n",
       "</table>\n",
       "</div>"
      ],
      "text/plain": [
       "    disease           symptom  occurence_count\n",
       "0  diabetes        polydypsia           1421.0\n",
       "1  diabetes        pain chest           1421.0\n",
       "2  diabetes            nausea           1421.0\n",
       "3  diabetes  unresponsiveness           1421.0\n",
       "4  diabetes           vertigo           1421.0"
      ]
     },
     "execution_count": 11,
     "metadata": {},
     "output_type": "execute_result"
    }
   ],
   "source": [
    "# Read Cleaned Data as DF\n",
    "df = pd.read_csv('dataset/cleaned_data.csv',encoding='latin1')\n",
    "df.columns = ['disease', 'symptom', 'occurence_count']\n",
    "df.head()"
   ]
  },
  {
   "cell_type": "code",
   "execution_count": 12,
   "metadata": {},
   "outputs": [],
   "source": [
    "# Remove any rows with empty values\n",
    "df.replace(float('nan'), np.nan, inplace=True)\n",
    "df.dropna(inplace=True)"
   ]
  },
  {
   "cell_type": "code",
   "execution_count": 13,
   "metadata": {},
   "outputs": [],
   "source": [
    "from sklearn import preprocessing"
   ]
  },
  {
   "cell_type": "code",
   "execution_count": 14,
   "metadata": {},
   "outputs": [
    {
     "data": {
      "text/plain": [
       "51"
      ]
     },
     "execution_count": 14,
     "metadata": {},
     "output_type": "execute_result"
    }
   ],
   "source": [
    "n_unique = len(df['symptom'].unique())\n",
    "n_unique"
   ]
  },
  {
   "cell_type": "code",
   "execution_count": 15,
   "metadata": {},
   "outputs": [
    {
     "data": {
      "text/plain": [
       "disease             object\n",
       "symptom             object\n",
       "occurence_count    float64\n",
       "dtype: object"
      ]
     },
     "execution_count": 15,
     "metadata": {},
     "output_type": "execute_result"
    }
   ],
   "source": [
    "df.dtypes"
   ]
  },
  {
   "cell_type": "code",
   "execution_count": 16,
   "metadata": {},
   "outputs": [
    {
     "name": "stdout",
     "output_type": "stream",
     "text": [
      "[37 34 29 47 48 49 24  8  2 41 10 18 47 38 30 39 50  5  9 20  4 26 33 25\n",
      " 42  6 19 15 27 36 31 11  9 39 23 21  1  7  0 14 44 10 16 28 43 32  5 46\n",
      " 50 13 43 17 22 12 40 45 35  3]\n"
     ]
    }
   ],
   "source": [
    "# Encode the Labels\n",
    "from sklearn.preprocessing import LabelEncoder\n",
    "from sklearn.preprocessing import OneHotEncoder\n",
    "\n",
    "label_encoder = LabelEncoder()\n",
    "integer_encoded = label_encoder.fit_transform(df['symptom'])\n",
    "print(integer_encoded)"
   ]
  },
  {
   "cell_type": "code",
   "execution_count": 17,
   "metadata": {
    "scrolled": false
   },
   "outputs": [
    {
     "name": "stdout",
     "output_type": "stream",
     "text": [
      "[[0. 0. 0. ... 0. 0. 0.]\n",
      " [0. 0. 0. ... 0. 0. 0.]\n",
      " [0. 0. 0. ... 0. 0. 0.]\n",
      " ...\n",
      " [0. 0. 0. ... 0. 0. 0.]\n",
      " [0. 0. 0. ... 0. 0. 0.]\n",
      " [0. 0. 0. ... 0. 0. 0.]]\n"
     ]
    }
   ],
   "source": [
    "# One Hot Encode the Labels\n",
    "onehot_encoder = OneHotEncoder(sparse=False)\n",
    "integer_encoded = integer_encoded.reshape(len(integer_encoded), 1)\n",
    "onehot_encoded = onehot_encoder.fit_transform(integer_encoded)\n",
    "print(onehot_encoded)"
   ]
  },
  {
   "cell_type": "code",
   "execution_count": 18,
   "metadata": {},
   "outputs": [
    {
     "data": {
      "text/plain": [
       "array([0., 0., 0., 0., 0., 0., 0., 0., 0., 0., 0., 0., 0., 0., 0., 0., 0.,\n",
       "       0., 0., 0., 0., 0., 0., 0., 0., 0., 0., 0., 0., 0., 0., 0., 0., 0.,\n",
       "       0., 0., 0., 1., 0., 0., 0., 0., 0., 0., 0., 0., 0., 0., 0., 0., 0.])"
      ]
     },
     "execution_count": 18,
     "metadata": {},
     "output_type": "execute_result"
    }
   ],
   "source": [
    "onehot_encoded[0]"
   ]
  },
  {
   "cell_type": "code",
   "execution_count": 19,
   "metadata": {},
   "outputs": [
    {
     "data": {
      "text/plain": [
       "51"
      ]
     },
     "execution_count": 19,
     "metadata": {},
     "output_type": "execute_result"
    }
   ],
   "source": [
    "len(onehot_encoded[0])"
   ]
  },
  {
   "cell_type": "code",
   "execution_count": 20,
   "metadata": {},
   "outputs": [
    {
     "data": {
      "text/plain": [
       "array(['polydypsia', 'pain chest', 'nausea', 'unresponsiveness',\n",
       "       'vertigo', 'vomiting', 'labored breathing', 'dysarthria',\n",
       "       'asthenia', 'speech slurred', 'facial paresis', 'hemiplegia',\n",
       "       'seizure', 'numbness', 'shortness of breath', 'wheezing', 'cough',\n",
       "       'dyspnea', 'hypercapnia', 'chest tightness',\n",
       "       'mass of body structure', 'pain', 'lesion', 'thicken',\n",
       "       'decreased body weight', 'hoarseness', 'general discomfort',\n",
       "       'metastatic lesion', 'paresthesia', 'orthopnea', 'fatigue',\n",
       "       'jugular venous distention', 'hypotension', 'angina pectoris',\n",
       "       'drool', 'agitation', 'frail', 'tremor resting', 'groggy',\n",
       "       'muscle twitch', 'tremor', 'out of breath', 'unhappy',\n",
       "       'feels hot/feverish', 'hallucinations auditory', 'irritable mood',\n",
       "       'feeling suicidal', 'sleeplessness', 'unconscious state', 'panic',\n",
       "       'breath sounds decreased'], dtype=object)"
      ]
     },
     "execution_count": 20,
     "metadata": {},
     "output_type": "execute_result"
    }
   ],
   "source": [
    "cols = np.asarray(df['symptom'].unique())\n",
    "cols"
   ]
  },
  {
   "cell_type": "code",
   "execution_count": 21,
   "metadata": {},
   "outputs": [
    {
     "data": {
      "text/html": [
       "<div>\n",
       "<style scoped>\n",
       "    .dataframe tbody tr th:only-of-type {\n",
       "        vertical-align: middle;\n",
       "    }\n",
       "\n",
       "    .dataframe tbody tr th {\n",
       "        vertical-align: top;\n",
       "    }\n",
       "\n",
       "    .dataframe thead th {\n",
       "        text-align: right;\n",
       "    }\n",
       "</style>\n",
       "<table border=\"1\" class=\"dataframe\">\n",
       "  <thead>\n",
       "    <tr style=\"text-align: right;\">\n",
       "      <th></th>\n",
       "      <th>polydypsia</th>\n",
       "      <th>pain chest</th>\n",
       "      <th>nausea</th>\n",
       "      <th>unresponsiveness</th>\n",
       "      <th>vertigo</th>\n",
       "      <th>vomiting</th>\n",
       "      <th>labored breathing</th>\n",
       "      <th>dysarthria</th>\n",
       "      <th>asthenia</th>\n",
       "      <th>speech slurred</th>\n",
       "      <th>...</th>\n",
       "      <th>out of breath</th>\n",
       "      <th>unhappy</th>\n",
       "      <th>feels hot/feverish</th>\n",
       "      <th>hallucinations auditory</th>\n",
       "      <th>irritable mood</th>\n",
       "      <th>feeling suicidal</th>\n",
       "      <th>sleeplessness</th>\n",
       "      <th>unconscious state</th>\n",
       "      <th>panic</th>\n",
       "      <th>breath sounds decreased</th>\n",
       "    </tr>\n",
       "  </thead>\n",
       "  <tbody>\n",
       "  </tbody>\n",
       "</table>\n",
       "<p>0 rows × 51 columns</p>\n",
       "</div>"
      ],
      "text/plain": [
       "Empty DataFrame\n",
       "Columns: [polydypsia, pain chest, nausea, unresponsiveness, vertigo, vomiting, labored breathing, dysarthria, asthenia, speech slurred, facial paresis, hemiplegia, seizure, numbness, shortness of breath, wheezing, cough, dyspnea, hypercapnia, chest tightness, mass of body structure, pain, lesion, thicken, decreased body weight, hoarseness, general discomfort, metastatic lesion, paresthesia, orthopnea, fatigue, jugular venous distention, hypotension, angina pectoris, drool, agitation, frail, tremor resting, groggy, muscle twitch, tremor, out of breath, unhappy, feels hot/feverish, hallucinations auditory, irritable mood, feeling suicidal, sleeplessness, unconscious state, panic, breath sounds decreased]\n",
       "Index: []\n",
       "\n",
       "[0 rows x 51 columns]"
      ]
     },
     "execution_count": 21,
     "metadata": {},
     "output_type": "execute_result"
    }
   ],
   "source": [
    "# Create a new dataframe to save OHE labels\n",
    "df_ohe = pd.DataFrame(columns = cols)\n",
    "df_ohe.head()"
   ]
  },
  {
   "cell_type": "code",
   "execution_count": 22,
   "metadata": {},
   "outputs": [],
   "source": [
    "for i in range(len(onehot_encoded)):\n",
    "    df_ohe.loc[i] = onehot_encoded[i]"
   ]
  },
  {
   "cell_type": "code",
   "execution_count": 23,
   "metadata": {},
   "outputs": [
    {
     "data": {
      "text/html": [
       "<div>\n",
       "<style scoped>\n",
       "    .dataframe tbody tr th:only-of-type {\n",
       "        vertical-align: middle;\n",
       "    }\n",
       "\n",
       "    .dataframe tbody tr th {\n",
       "        vertical-align: top;\n",
       "    }\n",
       "\n",
       "    .dataframe thead th {\n",
       "        text-align: right;\n",
       "    }\n",
       "</style>\n",
       "<table border=\"1\" class=\"dataframe\">\n",
       "  <thead>\n",
       "    <tr style=\"text-align: right;\">\n",
       "      <th></th>\n",
       "      <th>polydypsia</th>\n",
       "      <th>pain chest</th>\n",
       "      <th>nausea</th>\n",
       "      <th>unresponsiveness</th>\n",
       "      <th>vertigo</th>\n",
       "      <th>vomiting</th>\n",
       "      <th>labored breathing</th>\n",
       "      <th>dysarthria</th>\n",
       "      <th>asthenia</th>\n",
       "      <th>speech slurred</th>\n",
       "      <th>...</th>\n",
       "      <th>out of breath</th>\n",
       "      <th>unhappy</th>\n",
       "      <th>feels hot/feverish</th>\n",
       "      <th>hallucinations auditory</th>\n",
       "      <th>irritable mood</th>\n",
       "      <th>feeling suicidal</th>\n",
       "      <th>sleeplessness</th>\n",
       "      <th>unconscious state</th>\n",
       "      <th>panic</th>\n",
       "      <th>breath sounds decreased</th>\n",
       "    </tr>\n",
       "  </thead>\n",
       "  <tbody>\n",
       "    <tr>\n",
       "      <th>0</th>\n",
       "      <td>0.0</td>\n",
       "      <td>0.0</td>\n",
       "      <td>0.0</td>\n",
       "      <td>0.0</td>\n",
       "      <td>0.0</td>\n",
       "      <td>0.0</td>\n",
       "      <td>0.0</td>\n",
       "      <td>0.0</td>\n",
       "      <td>0.0</td>\n",
       "      <td>0.0</td>\n",
       "      <td>...</td>\n",
       "      <td>0.0</td>\n",
       "      <td>0.0</td>\n",
       "      <td>0.0</td>\n",
       "      <td>0.0</td>\n",
       "      <td>0.0</td>\n",
       "      <td>0.0</td>\n",
       "      <td>0.0</td>\n",
       "      <td>0.0</td>\n",
       "      <td>0.0</td>\n",
       "      <td>0.0</td>\n",
       "    </tr>\n",
       "    <tr>\n",
       "      <th>1</th>\n",
       "      <td>0.0</td>\n",
       "      <td>0.0</td>\n",
       "      <td>0.0</td>\n",
       "      <td>0.0</td>\n",
       "      <td>0.0</td>\n",
       "      <td>0.0</td>\n",
       "      <td>0.0</td>\n",
       "      <td>0.0</td>\n",
       "      <td>0.0</td>\n",
       "      <td>0.0</td>\n",
       "      <td>...</td>\n",
       "      <td>0.0</td>\n",
       "      <td>0.0</td>\n",
       "      <td>0.0</td>\n",
       "      <td>0.0</td>\n",
       "      <td>0.0</td>\n",
       "      <td>0.0</td>\n",
       "      <td>0.0</td>\n",
       "      <td>0.0</td>\n",
       "      <td>0.0</td>\n",
       "      <td>0.0</td>\n",
       "    </tr>\n",
       "    <tr>\n",
       "      <th>2</th>\n",
       "      <td>0.0</td>\n",
       "      <td>0.0</td>\n",
       "      <td>0.0</td>\n",
       "      <td>0.0</td>\n",
       "      <td>0.0</td>\n",
       "      <td>0.0</td>\n",
       "      <td>0.0</td>\n",
       "      <td>0.0</td>\n",
       "      <td>0.0</td>\n",
       "      <td>0.0</td>\n",
       "      <td>...</td>\n",
       "      <td>0.0</td>\n",
       "      <td>0.0</td>\n",
       "      <td>0.0</td>\n",
       "      <td>0.0</td>\n",
       "      <td>0.0</td>\n",
       "      <td>0.0</td>\n",
       "      <td>0.0</td>\n",
       "      <td>0.0</td>\n",
       "      <td>0.0</td>\n",
       "      <td>0.0</td>\n",
       "    </tr>\n",
       "    <tr>\n",
       "      <th>3</th>\n",
       "      <td>0.0</td>\n",
       "      <td>0.0</td>\n",
       "      <td>0.0</td>\n",
       "      <td>0.0</td>\n",
       "      <td>0.0</td>\n",
       "      <td>0.0</td>\n",
       "      <td>0.0</td>\n",
       "      <td>0.0</td>\n",
       "      <td>0.0</td>\n",
       "      <td>0.0</td>\n",
       "      <td>...</td>\n",
       "      <td>0.0</td>\n",
       "      <td>0.0</td>\n",
       "      <td>0.0</td>\n",
       "      <td>0.0</td>\n",
       "      <td>0.0</td>\n",
       "      <td>0.0</td>\n",
       "      <td>1.0</td>\n",
       "      <td>0.0</td>\n",
       "      <td>0.0</td>\n",
       "      <td>0.0</td>\n",
       "    </tr>\n",
       "    <tr>\n",
       "      <th>4</th>\n",
       "      <td>0.0</td>\n",
       "      <td>0.0</td>\n",
       "      <td>0.0</td>\n",
       "      <td>0.0</td>\n",
       "      <td>0.0</td>\n",
       "      <td>0.0</td>\n",
       "      <td>0.0</td>\n",
       "      <td>0.0</td>\n",
       "      <td>0.0</td>\n",
       "      <td>0.0</td>\n",
       "      <td>...</td>\n",
       "      <td>0.0</td>\n",
       "      <td>0.0</td>\n",
       "      <td>0.0</td>\n",
       "      <td>0.0</td>\n",
       "      <td>0.0</td>\n",
       "      <td>0.0</td>\n",
       "      <td>0.0</td>\n",
       "      <td>1.0</td>\n",
       "      <td>0.0</td>\n",
       "      <td>0.0</td>\n",
       "    </tr>\n",
       "  </tbody>\n",
       "</table>\n",
       "<p>5 rows × 51 columns</p>\n",
       "</div>"
      ],
      "text/plain": [
       "   polydypsia  pain chest  nausea  unresponsiveness  vertigo  vomiting  \\\n",
       "0         0.0         0.0     0.0               0.0      0.0       0.0   \n",
       "1         0.0         0.0     0.0               0.0      0.0       0.0   \n",
       "2         0.0         0.0     0.0               0.0      0.0       0.0   \n",
       "3         0.0         0.0     0.0               0.0      0.0       0.0   \n",
       "4         0.0         0.0     0.0               0.0      0.0       0.0   \n",
       "\n",
       "   labored breathing  dysarthria  asthenia  speech slurred  ...  \\\n",
       "0                0.0         0.0       0.0             0.0  ...   \n",
       "1                0.0         0.0       0.0             0.0  ...   \n",
       "2                0.0         0.0       0.0             0.0  ...   \n",
       "3                0.0         0.0       0.0             0.0  ...   \n",
       "4                0.0         0.0       0.0             0.0  ...   \n",
       "\n",
       "   out of breath  unhappy  feels hot/feverish  hallucinations auditory  \\\n",
       "0            0.0      0.0                 0.0                      0.0   \n",
       "1            0.0      0.0                 0.0                      0.0   \n",
       "2            0.0      0.0                 0.0                      0.0   \n",
       "3            0.0      0.0                 0.0                      0.0   \n",
       "4            0.0      0.0                 0.0                      0.0   \n",
       "\n",
       "   irritable mood  feeling suicidal  sleeplessness  unconscious state  panic  \\\n",
       "0             0.0               0.0            0.0                0.0    0.0   \n",
       "1             0.0               0.0            0.0                0.0    0.0   \n",
       "2             0.0               0.0            0.0                0.0    0.0   \n",
       "3             0.0               0.0            1.0                0.0    0.0   \n",
       "4             0.0               0.0            0.0                1.0    0.0   \n",
       "\n",
       "   breath sounds decreased  \n",
       "0                      0.0  \n",
       "1                      0.0  \n",
       "2                      0.0  \n",
       "3                      0.0  \n",
       "4                      0.0  \n",
       "\n",
       "[5 rows x 51 columns]"
      ]
     },
     "execution_count": 23,
     "metadata": {},
     "output_type": "execute_result"
    }
   ],
   "source": [
    "df_ohe.head()"
   ]
  },
  {
   "cell_type": "code",
   "execution_count": 24,
   "metadata": {},
   "outputs": [
    {
     "data": {
      "text/plain": [
       "58"
      ]
     },
     "execution_count": 24,
     "metadata": {},
     "output_type": "execute_result"
    }
   ],
   "source": [
    "len(df_ohe)"
   ]
  },
  {
   "cell_type": "code",
   "execution_count": 25,
   "metadata": {},
   "outputs": [
    {
     "data": {
      "text/plain": [
       "0    diabetes\n",
       "1    diabetes\n",
       "2    diabetes\n",
       "3    diabetes\n",
       "4    diabetes\n",
       "Name: disease, dtype: object"
      ]
     },
     "execution_count": 25,
     "metadata": {},
     "output_type": "execute_result"
    }
   ],
   "source": [
    "# Disease Dataframe\n",
    "df_disease = df['disease']\n",
    "df_disease.head()"
   ]
  },
  {
   "cell_type": "code",
   "execution_count": 26,
   "metadata": {},
   "outputs": [
    {
     "data": {
      "text/html": [
       "<div>\n",
       "<style scoped>\n",
       "    .dataframe tbody tr th:only-of-type {\n",
       "        vertical-align: middle;\n",
       "    }\n",
       "\n",
       "    .dataframe tbody tr th {\n",
       "        vertical-align: top;\n",
       "    }\n",
       "\n",
       "    .dataframe thead th {\n",
       "        text-align: right;\n",
       "    }\n",
       "</style>\n",
       "<table border=\"1\" class=\"dataframe\">\n",
       "  <thead>\n",
       "    <tr style=\"text-align: right;\">\n",
       "      <th></th>\n",
       "      <th>disease</th>\n",
       "      <th>polydypsia</th>\n",
       "      <th>pain chest</th>\n",
       "      <th>nausea</th>\n",
       "      <th>unresponsiveness</th>\n",
       "      <th>vertigo</th>\n",
       "      <th>vomiting</th>\n",
       "      <th>labored breathing</th>\n",
       "      <th>dysarthria</th>\n",
       "      <th>asthenia</th>\n",
       "      <th>...</th>\n",
       "      <th>out of breath</th>\n",
       "      <th>unhappy</th>\n",
       "      <th>feels hot/feverish</th>\n",
       "      <th>hallucinations auditory</th>\n",
       "      <th>irritable mood</th>\n",
       "      <th>feeling suicidal</th>\n",
       "      <th>sleeplessness</th>\n",
       "      <th>unconscious state</th>\n",
       "      <th>panic</th>\n",
       "      <th>breath sounds decreased</th>\n",
       "    </tr>\n",
       "  </thead>\n",
       "  <tbody>\n",
       "    <tr>\n",
       "      <th>0</th>\n",
       "      <td>diabetes</td>\n",
       "      <td>0.0</td>\n",
       "      <td>0.0</td>\n",
       "      <td>0.0</td>\n",
       "      <td>0.0</td>\n",
       "      <td>0.0</td>\n",
       "      <td>0.0</td>\n",
       "      <td>0.0</td>\n",
       "      <td>0.0</td>\n",
       "      <td>0.0</td>\n",
       "      <td>...</td>\n",
       "      <td>0.0</td>\n",
       "      <td>0.0</td>\n",
       "      <td>0.0</td>\n",
       "      <td>0.0</td>\n",
       "      <td>0.0</td>\n",
       "      <td>0.0</td>\n",
       "      <td>0.0</td>\n",
       "      <td>0.0</td>\n",
       "      <td>0.0</td>\n",
       "      <td>0.0</td>\n",
       "    </tr>\n",
       "    <tr>\n",
       "      <th>1</th>\n",
       "      <td>diabetes</td>\n",
       "      <td>0.0</td>\n",
       "      <td>0.0</td>\n",
       "      <td>0.0</td>\n",
       "      <td>0.0</td>\n",
       "      <td>0.0</td>\n",
       "      <td>0.0</td>\n",
       "      <td>0.0</td>\n",
       "      <td>0.0</td>\n",
       "      <td>0.0</td>\n",
       "      <td>...</td>\n",
       "      <td>0.0</td>\n",
       "      <td>0.0</td>\n",
       "      <td>0.0</td>\n",
       "      <td>0.0</td>\n",
       "      <td>0.0</td>\n",
       "      <td>0.0</td>\n",
       "      <td>0.0</td>\n",
       "      <td>0.0</td>\n",
       "      <td>0.0</td>\n",
       "      <td>0.0</td>\n",
       "    </tr>\n",
       "    <tr>\n",
       "      <th>2</th>\n",
       "      <td>diabetes</td>\n",
       "      <td>0.0</td>\n",
       "      <td>0.0</td>\n",
       "      <td>0.0</td>\n",
       "      <td>0.0</td>\n",
       "      <td>0.0</td>\n",
       "      <td>0.0</td>\n",
       "      <td>0.0</td>\n",
       "      <td>0.0</td>\n",
       "      <td>0.0</td>\n",
       "      <td>...</td>\n",
       "      <td>0.0</td>\n",
       "      <td>0.0</td>\n",
       "      <td>0.0</td>\n",
       "      <td>0.0</td>\n",
       "      <td>0.0</td>\n",
       "      <td>0.0</td>\n",
       "      <td>0.0</td>\n",
       "      <td>0.0</td>\n",
       "      <td>0.0</td>\n",
       "      <td>0.0</td>\n",
       "    </tr>\n",
       "    <tr>\n",
       "      <th>3</th>\n",
       "      <td>diabetes</td>\n",
       "      <td>0.0</td>\n",
       "      <td>0.0</td>\n",
       "      <td>0.0</td>\n",
       "      <td>0.0</td>\n",
       "      <td>0.0</td>\n",
       "      <td>0.0</td>\n",
       "      <td>0.0</td>\n",
       "      <td>0.0</td>\n",
       "      <td>0.0</td>\n",
       "      <td>...</td>\n",
       "      <td>0.0</td>\n",
       "      <td>0.0</td>\n",
       "      <td>0.0</td>\n",
       "      <td>0.0</td>\n",
       "      <td>0.0</td>\n",
       "      <td>0.0</td>\n",
       "      <td>1.0</td>\n",
       "      <td>0.0</td>\n",
       "      <td>0.0</td>\n",
       "      <td>0.0</td>\n",
       "    </tr>\n",
       "    <tr>\n",
       "      <th>4</th>\n",
       "      <td>diabetes</td>\n",
       "      <td>0.0</td>\n",
       "      <td>0.0</td>\n",
       "      <td>0.0</td>\n",
       "      <td>0.0</td>\n",
       "      <td>0.0</td>\n",
       "      <td>0.0</td>\n",
       "      <td>0.0</td>\n",
       "      <td>0.0</td>\n",
       "      <td>0.0</td>\n",
       "      <td>...</td>\n",
       "      <td>0.0</td>\n",
       "      <td>0.0</td>\n",
       "      <td>0.0</td>\n",
       "      <td>0.0</td>\n",
       "      <td>0.0</td>\n",
       "      <td>0.0</td>\n",
       "      <td>0.0</td>\n",
       "      <td>1.0</td>\n",
       "      <td>0.0</td>\n",
       "      <td>0.0</td>\n",
       "    </tr>\n",
       "  </tbody>\n",
       "</table>\n",
       "<p>5 rows × 52 columns</p>\n",
       "</div>"
      ],
      "text/plain": [
       "    disease  polydypsia  pain chest  nausea  unresponsiveness  vertigo  \\\n",
       "0  diabetes         0.0         0.0     0.0               0.0      0.0   \n",
       "1  diabetes         0.0         0.0     0.0               0.0      0.0   \n",
       "2  diabetes         0.0         0.0     0.0               0.0      0.0   \n",
       "3  diabetes         0.0         0.0     0.0               0.0      0.0   \n",
       "4  diabetes         0.0         0.0     0.0               0.0      0.0   \n",
       "\n",
       "   vomiting  labored breathing  dysarthria  asthenia  ...  out of breath  \\\n",
       "0       0.0                0.0         0.0       0.0  ...            0.0   \n",
       "1       0.0                0.0         0.0       0.0  ...            0.0   \n",
       "2       0.0                0.0         0.0       0.0  ...            0.0   \n",
       "3       0.0                0.0         0.0       0.0  ...            0.0   \n",
       "4       0.0                0.0         0.0       0.0  ...            0.0   \n",
       "\n",
       "   unhappy  feels hot/feverish  hallucinations auditory  irritable mood  \\\n",
       "0      0.0                 0.0                      0.0             0.0   \n",
       "1      0.0                 0.0                      0.0             0.0   \n",
       "2      0.0                 0.0                      0.0             0.0   \n",
       "3      0.0                 0.0                      0.0             0.0   \n",
       "4      0.0                 0.0                      0.0             0.0   \n",
       "\n",
       "   feeling suicidal  sleeplessness  unconscious state  panic  \\\n",
       "0               0.0            0.0                0.0    0.0   \n",
       "1               0.0            0.0                0.0    0.0   \n",
       "2               0.0            0.0                0.0    0.0   \n",
       "3               0.0            1.0                0.0    0.0   \n",
       "4               0.0            0.0                1.0    0.0   \n",
       "\n",
       "   breath sounds decreased  \n",
       "0                      0.0  \n",
       "1                      0.0  \n",
       "2                      0.0  \n",
       "3                      0.0  \n",
       "4                      0.0  \n",
       "\n",
       "[5 rows x 52 columns]"
      ]
     },
     "execution_count": 26,
     "metadata": {},
     "output_type": "execute_result"
    }
   ],
   "source": [
    "# Concatenate OHE Labels with the Disease Column\n",
    "df_concat = pd.concat([df_disease,df_ohe], axis=1)\n",
    "df_concat.head()"
   ]
  },
  {
   "cell_type": "code",
   "execution_count": 27,
   "metadata": {},
   "outputs": [],
   "source": [
    "df_concat.drop_duplicates(keep='first',inplace=True)"
   ]
  },
  {
   "cell_type": "code",
   "execution_count": 28,
   "metadata": {},
   "outputs": [
    {
     "data": {
      "text/html": [
       "<div>\n",
       "<style scoped>\n",
       "    .dataframe tbody tr th:only-of-type {\n",
       "        vertical-align: middle;\n",
       "    }\n",
       "\n",
       "    .dataframe tbody tr th {\n",
       "        vertical-align: top;\n",
       "    }\n",
       "\n",
       "    .dataframe thead th {\n",
       "        text-align: right;\n",
       "    }\n",
       "</style>\n",
       "<table border=\"1\" class=\"dataframe\">\n",
       "  <thead>\n",
       "    <tr style=\"text-align: right;\">\n",
       "      <th></th>\n",
       "      <th>disease</th>\n",
       "      <th>polydypsia</th>\n",
       "      <th>pain chest</th>\n",
       "      <th>nausea</th>\n",
       "      <th>unresponsiveness</th>\n",
       "      <th>vertigo</th>\n",
       "      <th>vomiting</th>\n",
       "      <th>labored breathing</th>\n",
       "      <th>dysarthria</th>\n",
       "      <th>asthenia</th>\n",
       "      <th>...</th>\n",
       "      <th>out of breath</th>\n",
       "      <th>unhappy</th>\n",
       "      <th>feels hot/feverish</th>\n",
       "      <th>hallucinations auditory</th>\n",
       "      <th>irritable mood</th>\n",
       "      <th>feeling suicidal</th>\n",
       "      <th>sleeplessness</th>\n",
       "      <th>unconscious state</th>\n",
       "      <th>panic</th>\n",
       "      <th>breath sounds decreased</th>\n",
       "    </tr>\n",
       "  </thead>\n",
       "  <tbody>\n",
       "    <tr>\n",
       "      <th>0</th>\n",
       "      <td>diabetes</td>\n",
       "      <td>0.0</td>\n",
       "      <td>0.0</td>\n",
       "      <td>0.0</td>\n",
       "      <td>0.0</td>\n",
       "      <td>0.0</td>\n",
       "      <td>0.0</td>\n",
       "      <td>0.0</td>\n",
       "      <td>0.0</td>\n",
       "      <td>0.0</td>\n",
       "      <td>...</td>\n",
       "      <td>0.0</td>\n",
       "      <td>0.0</td>\n",
       "      <td>0.0</td>\n",
       "      <td>0.0</td>\n",
       "      <td>0.0</td>\n",
       "      <td>0.0</td>\n",
       "      <td>0.0</td>\n",
       "      <td>0.0</td>\n",
       "      <td>0.0</td>\n",
       "      <td>0.0</td>\n",
       "    </tr>\n",
       "    <tr>\n",
       "      <th>1</th>\n",
       "      <td>diabetes</td>\n",
       "      <td>0.0</td>\n",
       "      <td>0.0</td>\n",
       "      <td>0.0</td>\n",
       "      <td>0.0</td>\n",
       "      <td>0.0</td>\n",
       "      <td>0.0</td>\n",
       "      <td>0.0</td>\n",
       "      <td>0.0</td>\n",
       "      <td>0.0</td>\n",
       "      <td>...</td>\n",
       "      <td>0.0</td>\n",
       "      <td>0.0</td>\n",
       "      <td>0.0</td>\n",
       "      <td>0.0</td>\n",
       "      <td>0.0</td>\n",
       "      <td>0.0</td>\n",
       "      <td>0.0</td>\n",
       "      <td>0.0</td>\n",
       "      <td>0.0</td>\n",
       "      <td>0.0</td>\n",
       "    </tr>\n",
       "    <tr>\n",
       "      <th>2</th>\n",
       "      <td>diabetes</td>\n",
       "      <td>0.0</td>\n",
       "      <td>0.0</td>\n",
       "      <td>0.0</td>\n",
       "      <td>0.0</td>\n",
       "      <td>0.0</td>\n",
       "      <td>0.0</td>\n",
       "      <td>0.0</td>\n",
       "      <td>0.0</td>\n",
       "      <td>0.0</td>\n",
       "      <td>...</td>\n",
       "      <td>0.0</td>\n",
       "      <td>0.0</td>\n",
       "      <td>0.0</td>\n",
       "      <td>0.0</td>\n",
       "      <td>0.0</td>\n",
       "      <td>0.0</td>\n",
       "      <td>0.0</td>\n",
       "      <td>0.0</td>\n",
       "      <td>0.0</td>\n",
       "      <td>0.0</td>\n",
       "    </tr>\n",
       "    <tr>\n",
       "      <th>3</th>\n",
       "      <td>diabetes</td>\n",
       "      <td>0.0</td>\n",
       "      <td>0.0</td>\n",
       "      <td>0.0</td>\n",
       "      <td>0.0</td>\n",
       "      <td>0.0</td>\n",
       "      <td>0.0</td>\n",
       "      <td>0.0</td>\n",
       "      <td>0.0</td>\n",
       "      <td>0.0</td>\n",
       "      <td>...</td>\n",
       "      <td>0.0</td>\n",
       "      <td>0.0</td>\n",
       "      <td>0.0</td>\n",
       "      <td>0.0</td>\n",
       "      <td>0.0</td>\n",
       "      <td>0.0</td>\n",
       "      <td>1.0</td>\n",
       "      <td>0.0</td>\n",
       "      <td>0.0</td>\n",
       "      <td>0.0</td>\n",
       "    </tr>\n",
       "    <tr>\n",
       "      <th>4</th>\n",
       "      <td>diabetes</td>\n",
       "      <td>0.0</td>\n",
       "      <td>0.0</td>\n",
       "      <td>0.0</td>\n",
       "      <td>0.0</td>\n",
       "      <td>0.0</td>\n",
       "      <td>0.0</td>\n",
       "      <td>0.0</td>\n",
       "      <td>0.0</td>\n",
       "      <td>0.0</td>\n",
       "      <td>...</td>\n",
       "      <td>0.0</td>\n",
       "      <td>0.0</td>\n",
       "      <td>0.0</td>\n",
       "      <td>0.0</td>\n",
       "      <td>0.0</td>\n",
       "      <td>0.0</td>\n",
       "      <td>0.0</td>\n",
       "      <td>1.0</td>\n",
       "      <td>0.0</td>\n",
       "      <td>0.0</td>\n",
       "    </tr>\n",
       "  </tbody>\n",
       "</table>\n",
       "<p>5 rows × 52 columns</p>\n",
       "</div>"
      ],
      "text/plain": [
       "    disease  polydypsia  pain chest  nausea  unresponsiveness  vertigo  \\\n",
       "0  diabetes         0.0         0.0     0.0               0.0      0.0   \n",
       "1  diabetes         0.0         0.0     0.0               0.0      0.0   \n",
       "2  diabetes         0.0         0.0     0.0               0.0      0.0   \n",
       "3  diabetes         0.0         0.0     0.0               0.0      0.0   \n",
       "4  diabetes         0.0         0.0     0.0               0.0      0.0   \n",
       "\n",
       "   vomiting  labored breathing  dysarthria  asthenia  ...  out of breath  \\\n",
       "0       0.0                0.0         0.0       0.0  ...            0.0   \n",
       "1       0.0                0.0         0.0       0.0  ...            0.0   \n",
       "2       0.0                0.0         0.0       0.0  ...            0.0   \n",
       "3       0.0                0.0         0.0       0.0  ...            0.0   \n",
       "4       0.0                0.0         0.0       0.0  ...            0.0   \n",
       "\n",
       "   unhappy  feels hot/feverish  hallucinations auditory  irritable mood  \\\n",
       "0      0.0                 0.0                      0.0             0.0   \n",
       "1      0.0                 0.0                      0.0             0.0   \n",
       "2      0.0                 0.0                      0.0             0.0   \n",
       "3      0.0                 0.0                      0.0             0.0   \n",
       "4      0.0                 0.0                      0.0             0.0   \n",
       "\n",
       "   feeling suicidal  sleeplessness  unconscious state  panic  \\\n",
       "0               0.0            0.0                0.0    0.0   \n",
       "1               0.0            0.0                0.0    0.0   \n",
       "2               0.0            0.0                0.0    0.0   \n",
       "3               0.0            1.0                0.0    0.0   \n",
       "4               0.0            0.0                1.0    0.0   \n",
       "\n",
       "   breath sounds decreased  \n",
       "0                      0.0  \n",
       "1                      0.0  \n",
       "2                      0.0  \n",
       "3                      0.0  \n",
       "4                      0.0  \n",
       "\n",
       "[5 rows x 52 columns]"
      ]
     },
     "execution_count": 28,
     "metadata": {},
     "output_type": "execute_result"
    }
   ],
   "source": [
    "df_concat.head()"
   ]
  },
  {
   "cell_type": "code",
   "execution_count": 29,
   "metadata": {},
   "outputs": [
    {
     "data": {
      "text/plain": [
       "58"
      ]
     },
     "execution_count": 29,
     "metadata": {},
     "output_type": "execute_result"
    }
   ],
   "source": [
    "len(df_concat)"
   ]
  },
  {
   "cell_type": "code",
   "execution_count": 30,
   "metadata": {},
   "outputs": [
    {
     "data": {
      "text/plain": [
       "Index(['disease', 'polydypsia', 'pain chest', 'nausea', 'unresponsiveness',\n",
       "       'vertigo', 'vomiting', 'labored breathing', 'dysarthria', 'asthenia',\n",
       "       'speech slurred', 'facial paresis', 'hemiplegia', 'seizure', 'numbness',\n",
       "       'shortness of breath', 'wheezing', 'cough', 'dyspnea', 'hypercapnia',\n",
       "       'chest tightness', 'mass of body structure', 'pain', 'lesion',\n",
       "       'thicken', 'decreased body weight', 'hoarseness', 'general discomfort',\n",
       "       'metastatic lesion', 'paresthesia', 'orthopnea', 'fatigue',\n",
       "       'jugular venous distention', 'hypotension', 'angina pectoris', 'drool',\n",
       "       'agitation', 'frail', 'tremor resting', 'groggy', 'muscle twitch',\n",
       "       'tremor', 'out of breath', 'unhappy', 'feels hot/feverish',\n",
       "       'hallucinations auditory', 'irritable mood', 'feeling suicidal',\n",
       "       'sleeplessness', 'unconscious state', 'panic',\n",
       "       'breath sounds decreased'],\n",
       "      dtype='object')"
      ]
     },
     "execution_count": 30,
     "metadata": {},
     "output_type": "execute_result"
    }
   ],
   "source": [
    "cols = df_concat.columns\n",
    "cols"
   ]
  },
  {
   "cell_type": "code",
   "execution_count": 31,
   "metadata": {},
   "outputs": [],
   "source": [
    "cols = cols[1:]"
   ]
  },
  {
   "cell_type": "code",
   "execution_count": 32,
   "metadata": {},
   "outputs": [
    {
     "data": {
      "text/html": [
       "<div>\n",
       "<style scoped>\n",
       "    .dataframe tbody tr th:only-of-type {\n",
       "        vertical-align: middle;\n",
       "    }\n",
       "\n",
       "    .dataframe tbody tr th {\n",
       "        vertical-align: top;\n",
       "    }\n",
       "\n",
       "    .dataframe thead th {\n",
       "        text-align: right;\n",
       "    }\n",
       "</style>\n",
       "<table border=\"1\" class=\"dataframe\">\n",
       "  <thead>\n",
       "    <tr style=\"text-align: right;\">\n",
       "      <th></th>\n",
       "      <th>disease</th>\n",
       "      <th>polydypsia</th>\n",
       "      <th>pain chest</th>\n",
       "      <th>nausea</th>\n",
       "      <th>unresponsiveness</th>\n",
       "      <th>vertigo</th>\n",
       "      <th>vomiting</th>\n",
       "      <th>labored breathing</th>\n",
       "      <th>dysarthria</th>\n",
       "      <th>asthenia</th>\n",
       "      <th>...</th>\n",
       "      <th>out of breath</th>\n",
       "      <th>unhappy</th>\n",
       "      <th>feels hot/feverish</th>\n",
       "      <th>hallucinations auditory</th>\n",
       "      <th>irritable mood</th>\n",
       "      <th>feeling suicidal</th>\n",
       "      <th>sleeplessness</th>\n",
       "      <th>unconscious state</th>\n",
       "      <th>panic</th>\n",
       "      <th>breath sounds decreased</th>\n",
       "    </tr>\n",
       "  </thead>\n",
       "  <tbody>\n",
       "    <tr>\n",
       "      <th>0</th>\n",
       "      <td>Alzheimer's disease</td>\n",
       "      <td>1.0</td>\n",
       "      <td>0.0</td>\n",
       "      <td>0.0</td>\n",
       "      <td>0.0</td>\n",
       "      <td>0.0</td>\n",
       "      <td>0.0</td>\n",
       "      <td>0.0</td>\n",
       "      <td>1.0</td>\n",
       "      <td>0.0</td>\n",
       "      <td>...</td>\n",
       "      <td>0.0</td>\n",
       "      <td>0.0</td>\n",
       "      <td>1.0</td>\n",
       "      <td>1.0</td>\n",
       "      <td>0.0</td>\n",
       "      <td>0.0</td>\n",
       "      <td>0.0</td>\n",
       "      <td>0.0</td>\n",
       "      <td>0.0</td>\n",
       "      <td>0.0</td>\n",
       "    </tr>\n",
       "    <tr>\n",
       "      <th>1</th>\n",
       "      <td>accident cerebrovascular</td>\n",
       "      <td>0.0</td>\n",
       "      <td>0.0</td>\n",
       "      <td>1.0</td>\n",
       "      <td>0.0</td>\n",
       "      <td>0.0</td>\n",
       "      <td>0.0</td>\n",
       "      <td>0.0</td>\n",
       "      <td>0.0</td>\n",
       "      <td>1.0</td>\n",
       "      <td>...</td>\n",
       "      <td>1.0</td>\n",
       "      <td>0.0</td>\n",
       "      <td>0.0</td>\n",
       "      <td>0.0</td>\n",
       "      <td>0.0</td>\n",
       "      <td>0.0</td>\n",
       "      <td>1.0</td>\n",
       "      <td>0.0</td>\n",
       "      <td>0.0</td>\n",
       "      <td>0.0</td>\n",
       "    </tr>\n",
       "    <tr>\n",
       "      <th>2</th>\n",
       "      <td>carcinoma</td>\n",
       "      <td>0.0</td>\n",
       "      <td>0.0</td>\n",
       "      <td>0.0</td>\n",
       "      <td>0.0</td>\n",
       "      <td>0.0</td>\n",
       "      <td>0.0</td>\n",
       "      <td>1.0</td>\n",
       "      <td>0.0</td>\n",
       "      <td>0.0</td>\n",
       "      <td>...</td>\n",
       "      <td>0.0</td>\n",
       "      <td>1.0</td>\n",
       "      <td>0.0</td>\n",
       "      <td>0.0</td>\n",
       "      <td>0.0</td>\n",
       "      <td>0.0</td>\n",
       "      <td>0.0</td>\n",
       "      <td>0.0</td>\n",
       "      <td>0.0</td>\n",
       "      <td>0.0</td>\n",
       "    </tr>\n",
       "    <tr>\n",
       "      <th>3</th>\n",
       "      <td>chronic alcoholic intoxication</td>\n",
       "      <td>0.0</td>\n",
       "      <td>0.0</td>\n",
       "      <td>0.0</td>\n",
       "      <td>1.0</td>\n",
       "      <td>0.0</td>\n",
       "      <td>0.0</td>\n",
       "      <td>0.0</td>\n",
       "      <td>0.0</td>\n",
       "      <td>0.0</td>\n",
       "      <td>...</td>\n",
       "      <td>0.0</td>\n",
       "      <td>0.0</td>\n",
       "      <td>1.0</td>\n",
       "      <td>0.0</td>\n",
       "      <td>1.0</td>\n",
       "      <td>0.0</td>\n",
       "      <td>0.0</td>\n",
       "      <td>0.0</td>\n",
       "      <td>0.0</td>\n",
       "      <td>0.0</td>\n",
       "    </tr>\n",
       "    <tr>\n",
       "      <th>4</th>\n",
       "      <td>chronic obstructive airway disease</td>\n",
       "      <td>0.0</td>\n",
       "      <td>0.0</td>\n",
       "      <td>0.0</td>\n",
       "      <td>0.0</td>\n",
       "      <td>1.0</td>\n",
       "      <td>1.0</td>\n",
       "      <td>0.0</td>\n",
       "      <td>0.0</td>\n",
       "      <td>0.0</td>\n",
       "      <td>...</td>\n",
       "      <td>0.0</td>\n",
       "      <td>0.0</td>\n",
       "      <td>0.0</td>\n",
       "      <td>0.0</td>\n",
       "      <td>0.0</td>\n",
       "      <td>0.0</td>\n",
       "      <td>0.0</td>\n",
       "      <td>0.0</td>\n",
       "      <td>0.0</td>\n",
       "      <td>1.0</td>\n",
       "    </tr>\n",
       "  </tbody>\n",
       "</table>\n",
       "<p>5 rows × 52 columns</p>\n",
       "</div>"
      ],
      "text/plain": [
       "                              disease  polydypsia  pain chest  nausea  \\\n",
       "0                 Alzheimer's disease         1.0         0.0     0.0   \n",
       "1            accident cerebrovascular         0.0         0.0     1.0   \n",
       "2                           carcinoma         0.0         0.0     0.0   \n",
       "3      chronic alcoholic intoxication         0.0         0.0     0.0   \n",
       "4  chronic obstructive airway disease         0.0         0.0     0.0   \n",
       "\n",
       "   unresponsiveness  vertigo  vomiting  labored breathing  dysarthria  \\\n",
       "0               0.0      0.0       0.0                0.0         1.0   \n",
       "1               0.0      0.0       0.0                0.0         0.0   \n",
       "2               0.0      0.0       0.0                1.0         0.0   \n",
       "3               1.0      0.0       0.0                0.0         0.0   \n",
       "4               0.0      1.0       1.0                0.0         0.0   \n",
       "\n",
       "   asthenia  ...  out of breath  unhappy  feels hot/feverish  \\\n",
       "0       0.0  ...            0.0      0.0                 1.0   \n",
       "1       1.0  ...            1.0      0.0                 0.0   \n",
       "2       0.0  ...            0.0      1.0                 0.0   \n",
       "3       0.0  ...            0.0      0.0                 1.0   \n",
       "4       0.0  ...            0.0      0.0                 0.0   \n",
       "\n",
       "   hallucinations auditory  irritable mood  feeling suicidal  sleeplessness  \\\n",
       "0                      1.0             0.0               0.0            0.0   \n",
       "1                      0.0             0.0               0.0            1.0   \n",
       "2                      0.0             0.0               0.0            0.0   \n",
       "3                      0.0             1.0               0.0            0.0   \n",
       "4                      0.0             0.0               0.0            0.0   \n",
       "\n",
       "   unconscious state  panic  breath sounds decreased  \n",
       "0                0.0    0.0                      0.0  \n",
       "1                0.0    0.0                      0.0  \n",
       "2                0.0    0.0                      0.0  \n",
       "3                0.0    0.0                      0.0  \n",
       "4                0.0    0.0                      1.0  \n",
       "\n",
       "[5 rows x 52 columns]"
      ]
     },
     "execution_count": 32,
     "metadata": {},
     "output_type": "execute_result"
    }
   ],
   "source": [
    "# Since, every disease has multiple symptoms, combine all symptoms per disease per row\n",
    "df_concat = df_concat.groupby('disease').sum()\n",
    "df_concat = df_concat.reset_index()\n",
    "df_concat[:5]"
   ]
  },
  {
   "cell_type": "code",
   "execution_count": 33,
   "metadata": {},
   "outputs": [
    {
     "data": {
      "text/plain": [
       "8"
      ]
     },
     "execution_count": 33,
     "metadata": {},
     "output_type": "execute_result"
    }
   ],
   "source": [
    "len(df_concat)"
   ]
  },
  {
   "cell_type": "code",
   "execution_count": 34,
   "metadata": {},
   "outputs": [],
   "source": [
    "df_concat.to_csv(\"./dataset/training_dataset.csv\", index=False)"
   ]
  },
  {
   "cell_type": "code",
   "execution_count": 35,
   "metadata": {},
   "outputs": [],
   "source": [
    "# One Hot Encoded Features\n",
    "X = df_concat[cols]\n",
    "\n",
    "# Labels\n",
    "y = df_concat['disease']"
   ]
  },
  {
   "cell_type": "markdown",
   "metadata": {},
   "source": [
    "## Model Training"
   ]
  },
  {
   "cell_type": "code",
   "execution_count": 36,
   "metadata": {},
   "outputs": [],
   "source": [
    "from sklearn.model_selection import train_test_split\n",
    "from sklearn.naive_bayes import MultinomialNB\n",
    "from sklearn import tree\n",
    "from sklearn.ensemble import RandomForestClassifier\n",
    "from sklearn import metrics"
   ]
  },
  {
   "cell_type": "code",
   "execution_count": 37,
   "metadata": {},
   "outputs": [],
   "source": [
    "# Train Test Split\n",
    "X_train, X_test, y_train, y_test = train_test_split(X, y, test_size=0.2, random_state=101)"
   ]
  },
  {
   "cell_type": "code",
   "execution_count": 38,
   "metadata": {},
   "outputs": [
    {
     "data": {
      "text/plain": [
       "(6, 6)"
      ]
     },
     "execution_count": 38,
     "metadata": {},
     "output_type": "execute_result"
    }
   ],
   "source": [
    "len(X_train), len(y_train)"
   ]
  },
  {
   "cell_type": "code",
   "execution_count": 39,
   "metadata": {},
   "outputs": [
    {
     "data": {
      "text/plain": [
       "(2, 2)"
      ]
     },
     "execution_count": 39,
     "metadata": {},
     "output_type": "execute_result"
    }
   ],
   "source": [
    "len(X_test), len(y_test)"
   ]
  },
  {
   "cell_type": "code",
   "execution_count": 40,
   "metadata": {},
   "outputs": [
    {
     "data": {
      "text/plain": [
       "RandomForestClassifier(random_state=1)"
      ]
     },
     "execution_count": 40,
     "metadata": {},
     "output_type": "execute_result"
    }
   ],
   "source": [
    "# Initialize the models\n",
    "clf_dt = RandomForestClassifier(random_state = 1)\n",
    "clf_dt.fit(X,y)"
   ]
  },
  {
   "cell_type": "code",
   "execution_count": 41,
   "metadata": {},
   "outputs": [
    {
     "data": {
      "text/plain": [
       "1.0"
      ]
     },
     "execution_count": 41,
     "metadata": {},
     "output_type": "execute_result"
    }
   ],
   "source": [
    "#the accuracy\n",
    "clf_dt.score(X, y)"
   ]
  },
  {
   "cell_type": "code",
   "execution_count": 42,
   "metadata": {},
   "outputs": [
    {
     "name": "stdout",
     "output_type": "stream",
     "text": [
      "chronic alcoholic intoxication\n"
     ]
    }
   ],
   "source": [
    "disease_pred = clf_dt.predict(X)\n",
    "print(disease_pred[3])"
   ]
  },
  {
   "cell_type": "code",
   "execution_count": 43,
   "metadata": {},
   "outputs": [
    {
     "name": "stdout",
     "output_type": "stream",
     "text": [
      "chronic alcoholic intoxication\n"
     ]
    }
   ],
   "source": [
    "disease_real = y.values\n",
    "print(disease_real[3])"
   ]
  },
  {
   "cell_type": "code",
   "execution_count": 44,
   "metadata": {},
   "outputs": [],
   "source": [
    "for i in range(0, len(disease_real)):\n",
    "    if disease_pred[i]!=disease_real[i]:\n",
    "        print ('Pred: {0}\\nActual: {1}\\n'.format(disease_pred[i], disease_real[i]))"
   ]
  },
  {
   "cell_type": "markdown",
   "metadata": {},
   "source": [
    "pickling objects"
   ]
  },
  {
   "cell_type": "code",
   "execution_count": 45,
   "metadata": {},
   "outputs": [],
   "source": [
    "pickle.dump(clf_dt, open('model.pkl','wb'))"
   ]
  },
  {
   "cell_type": "markdown",
   "metadata": {},
   "source": [
    "Initialize flask"
   ]
  },
  {
   "cell_type": "code",
   "execution_count": 46,
   "metadata": {},
   "outputs": [],
   "source": [
    "#import libraries\n",
    "import numpy as np\n",
    "from flask import Flask, render_template,request\n",
    "import pickle#Initialize the flask App\n",
    "app = Flask(__name__)\n",
    "models = pickle.load(open('model.pkl', 'rb'))"
   ]
  }
 ],
 "metadata": {
  "interpreter": {
   "hash": "1f683db0da1564cc3d7539ae97381465c607ada2c3c3240d53cef99c5c5d644a"
  },
  "kernelspec": {
   "display_name": "Python 3.7.11 64-bit ('sashakhoo': conda)",
   "name": "python3"
  },
  "language_info": {
   "codemirror_mode": {
    "name": "ipython",
    "version": 3
   },
   "file_extension": ".py",
   "mimetype": "text/x-python",
   "name": "python",
   "nbconvert_exporter": "python",
   "pygments_lexer": "ipython3",
   "version": "3.7.11"
  }
 },
 "nbformat": 4,
 "nbformat_minor": 2
}
